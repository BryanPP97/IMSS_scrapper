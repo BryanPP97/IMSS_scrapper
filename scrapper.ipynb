{
 "cells": [
  {
   "cell_type": "markdown",
   "metadata": {},
   "source": [
    "## Guardar captch como imagen"
   ]
  },
  {
   "cell_type": "code",
   "execution_count": 8,
   "metadata": {},
   "outputs": [],
   "source": [
    "import tensorflow as tf \n",
    "import cv2\n",
    "import numpy as np  "
   ]
  },
  {
   "cell_type": "code",
   "execution_count": 11,
   "metadata": {},
   "outputs": [],
   "source": [
    "# Cargar el modelo entrenado desde el archivo model.h5\n",
    "model = tf.keras.models.load_model('model.h5')"
   ]
  },
  {
   "cell_type": "code",
   "execution_count": 17,
   "metadata": {},
   "outputs": [],
   "source": [
    "# Cargar la imagen .png que coniene las letras que desea predecir\n",
    "image_path = \"captcha_gray.png\"\n",
    "image = cv2.imread(image_path, cv2.IMREAD_GRAYSCALE) # Carga la imagen en escala de grises"
   ]
  },
  {
   "cell_type": "code",
   "execution_count": 18,
   "metadata": {},
   "outputs": [],
   "source": [
    "# Preprocesar la imagen\n",
    "image = cv2.resize(image, (32,32)) # Redimensionar a 32x32\n",
    "image = image.reshape(1, 32, 32, 1) # Agrega la dimension de canal\n",
    "image = image.astype('float32') / 255.0 # Normaliza los valores de pixel entre 0 y 1"
   ]
  },
  {
   "cell_type": "code",
   "execution_count": 19,
   "metadata": {},
   "outputs": [
    {
     "name": "stdout",
     "output_type": "stream",
     "text": [
      "1/1 [==============================] - 0s 27ms/step\n"
     ]
    }
   ],
   "source": [
    "# Utilizar el modelo para hacer predicciones en la imagen\n",
    "predictions = model.predict(image)"
   ]
  },
  {
   "cell_type": "code",
   "execution_count": 20,
   "metadata": {},
   "outputs": [],
   "source": [
    "# Decodificar las predicciones para obtener las letras\n",
    "predicted_label_index = np.argmax(predictions[0])\n",
    "alphabet = \"ABCDEFGHIJKLMNOPQRSTUVWXYZ\"\n",
    "predicted_letter = alphabet[predicted_label_index]"
   ]
  },
  {
   "cell_type": "code",
   "execution_count": 21,
   "metadata": {},
   "outputs": [
    {
     "name": "stdout",
     "output_type": "stream",
     "text": [
      "La letra predicha es : R\n"
     ]
    }
   ],
   "source": [
    "print(f\"La letra predicha es : {predicted_letter}\")"
   ]
  },
  {
   "cell_type": "code",
   "execution_count": 22,
   "metadata": {},
   "outputs": [],
   "source": [
    "from dbfread import DBF\n",
    "import csv"
   ]
  },
  {
   "cell_type": "code",
   "execution_count": 37,
   "metadata": {},
   "outputs": [
    {
     "name": "stdout",
     "output_type": "stream",
     "text": [
      "Archivo .dbf convertido exitosamente a formato CSV.\n"
     ]
    }
   ],
   "source": [
    "import pandas as pd\n",
    "from dbfread import DBF\n",
    "\n",
    "def convert_dbf_to_csv(dbf_file, csv_file):\n",
    "    table = DBF(dbf_file, encoding='latin-1')  # Intenta cambiar a 'ISO-8859-1' si 'latin-1' no funciona\n",
    "    \n",
    "    # Convert to DataFrame\n",
    "    df = pd.DataFrame(iter(table))\n",
    "    \n",
    "    # Save DataFrame to CSV\n",
    "    df.to_csv(csv_file, index=False, encoding='utf-8'   )\n",
    "\n",
    "if __name__ == \"__main__\":\n",
    "    dbf_file_path = \"Z:/BRYAN/DF.DBF\"\n",
    "    csv_file_path = \"Z:/BRYAN/DF.csv\"\n",
    "\n",
    "    try:\n",
    "        convert_dbf_to_csv(dbf_file_path, csv_file_path)\n",
    "        print(\"Archivo .dbf convertido exitosamente a formato CSV.\")\n",
    "    except Exception as e:\n",
    "        print(\"Error al convertir el archivo:\", e)\n",
    "\n"
   ]
  },
  {
   "cell_type": "code",
   "execution_count": null,
   "metadata": {},
   "outputs": [],
   "source": [
    "dbf_file_path = \"Z:/BRYAN/DF.DBF\"\n",
    "csv_file_path = \"Z:/BRYAN/DF.csv\"\n",
    "    "
   ]
  },
  {
   "cell_type": "code",
   "execution_count": 38,
   "metadata": {},
   "outputs": [
    {
     "name": "stderr",
     "output_type": "stream",
     "text": [
      "C:\\Users\\DSTHREE\\AppData\\Local\\Temp\\4\\ipykernel_43784\\783848734.py:4: DtypeWarning: Columns (0,1,2,3,9,12,13,14,15,16,22,23,24,25,26,27,29,30,31,32,37,38,39,40,45,47,50,51,52,53,54,56,57,58,59,62,63,64,65,66,67,68,69,70,71,72,73,74,75,76,77,78,79,80,81,82,83,84,85,86,87,88,89,90,91,92,93,94,95,96,97,99,100,101,102,103,104,105,106,108,109,112,113,114,115,116,117,119,120,123,124,126,127,128,129,131,132,133,134,136,137,138,139,140,141,142,145,146,147,148,149,151,152,156,159,160,161,162,163,164,165,166,167,168,169,170,171,172,173,174) have mixed types. Specify dtype option on import or set low_memory=False.\n",
      "  df = pd.read_csv(csv_file)\n"
     ]
    },
    {
     "name": "stdout",
     "output_type": "stream",
     "text": [
      "Archivo CSV cargado exitosamente en un DataFrame:\n",
      "              COLUMN1        COLUMN2            COLUMN3       COLUMN4  \\\n",
      "0       NUMEROCLIENTE  NUMEROTARJETA  REPOSICIONTARJETA  NUMEROTIENDA   \n",
      "1             3931878              0                  0            24   \n",
      "2             2496792              0                  0            28   \n",
      "3            17800618              0                  0           543   \n",
      "4            18521288              0                  0           563   \n",
      "...               ...            ...                ...           ...   \n",
      "572580       20670153              0                  0           841   \n",
      "572581       20670154              0                  0           841   \n",
      "572582       20670155              0                  0           841   \n",
      "572583       20670156              0                  0           841   \n",
      "572584       20076898              0                  0           227   \n",
      "\n",
      "                COLUMN5          COLUMN6          COLUMN7 COLUMN8  \\\n",
      "0                NOMBRE  APELLIDOPATERNO  APELLIDOMATERNO    SEXO   \n",
      "1       ISABEL CRISTINA           ACOSTA        RODRIGUEZ       F   \n",
      "2          MARTHA ELENA         QUI#ONES            AYALA       F   \n",
      "3             MONSERRAT          AGUILAR        HERNANDEZ       F   \n",
      "4                  JOSE           GARCIA        RODRIGUEZ       M   \n",
      "...                 ...              ...              ...     ...   \n",
      "572580         ANGELICA          HERRERA            RAMOS       F   \n",
      "572581           RAQUEL          SANCHEZ        VELAZQUEZ       F   \n",
      "572582          LIZBETH        ALQUICIRA          MENDOZA       F   \n",
      "572583    MARIA OBDULIA           ORTEGA          PACHECO       F   \n",
      "572584         EMMANUEL            GAONA          MORALES       M   \n",
      "\n",
      "            COLUMN9     COLUMN10  ...     COLUMN167                COLUMN168  \\\n",
      "0       ESTADOCIVIL  ESCOLARIDAD  ...  NUMEROCASA_1  MARCAUNIDADHABITACIONAL   \n",
      "1                 C            2  ...             0                        0   \n",
      "2                 S            4  ...             0                        0   \n",
      "3                 S            5  ...             0                        0   \n",
      "4                 C            3  ...             0                        0   \n",
      "...             ...          ...  ...           ...                      ...   \n",
      "572580            U            3  ...           0.0                      0.0   \n",
      "572581            C            3  ...           0.0                      0.0   \n",
      "572582            C            4  ...           0.0                      0.0   \n",
      "572583            C            5  ...           0.0                      0.0   \n",
      "572584            S            3  ...           0.0                      0.0   \n",
      "\n",
      "                      COLUMN169     COLUMN170        COLUMN171  \\\n",
      "0       NUMERODIVISIONCOBRANZAS  CLAVEABOGADO  CIUDADCOBRANZAS   \n",
      "1                             0             2               99   \n",
      "2                             0            49               99   \n",
      "3                             0            49               99   \n",
      "4                             0             2               99   \n",
      "...                         ...           ...              ...   \n",
      "572580                      0.0           2.0            114.0   \n",
      "572581                      0.0          49.0            114.0   \n",
      "572582                      0.0          49.0            114.0   \n",
      "572583                      0.0           2.0            114.0   \n",
      "572584                      0.0           2.0            114.0   \n",
      "\n",
      "              COLUMN172    COLUMN173 COLUMN174  COLUMN175   COLUMN176  \n",
      "0       NUMEROCOBRANZAS  CLAVEARAGON    CENTRO  CLAVELADA  TIPOZONA_1  \n",
      "1                     1          NaN    108901         55           L  \n",
      "2                     1          NaN    108901         55           L  \n",
      "3                     1          NaN    108901         55           L  \n",
      "4                     1          NaN    108901         55           L  \n",
      "...                 ...          ...       ...        ...         ...  \n",
      "572580              1.0          NaN  110001.0       55.0           L  \n",
      "572581              1.0          NaN  110001.0       55.0           L  \n",
      "572582              1.0          NaN  110001.0       55.0           L  \n",
      "572583              1.0          NaN  110001.0       55.0           L  \n",
      "572584              1.0          NaN  110001.0       55.0           L  \n",
      "\n",
      "[572585 rows x 176 columns]\n"
     ]
    }
   ],
   "source": [
    "import pandas as pd\n",
    "\n",
    "def read_csv_file(csv_file):\n",
    "    df = pd.read_csv(csv_file)\n",
    "    return df\n",
    "\n",
    "if __name__ == \"__main__\":\n",
    "    csv_file_path = \"Z:/BRYAN/DF.csv\"\n",
    "    \n",
    "    try:\n",
    "        df = read_csv_file(csv_file_path)\n",
    "        print(\"Archivo CSV cargado exitosamente en un DataFrame:\")\n",
    "        print(df)\n",
    "    except Exception as e:\n",
    "        print(\"Error al cargar el archivo CSV:\", e)"
   ]
  }
 ],
 "metadata": {
  "kernelspec": {
   "display_name": "IMSS-scrapper",
   "language": "python",
   "name": "python3"
  },
  "language_info": {
   "codemirror_mode": {
    "name": "ipython",
    "version": 3
   },
   "file_extension": ".py",
   "mimetype": "text/x-python",
   "name": "python",
   "nbconvert_exporter": "python",
   "pygments_lexer": "ipython3",
   "version": "3.10.9"
  },
  "orig_nbformat": 4
 },
 "nbformat": 4,
 "nbformat_minor": 2
}
