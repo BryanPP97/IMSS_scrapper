{
 "cells": [
  {
   "cell_type": "code",
   "execution_count": 1,
   "metadata": {},
   "outputs": [],
   "source": [
    "from selenium import webdriver"
   ]
  },
  {
   "cell_type": "code",
   "execution_count": null,
   "metadata": {},
   "outputs": [],
   "source": [
    "# Configurar el navegador\n",
    "driver = webdriver.Chrome()\n",
    "\n",
    "# Navegar a la p+agina con el captcha\n",
    "driver.get(\"https://serviciosdigitales.imss.gob.mx/gestionAsegurados-web-externo/asignacionNSS\")\n"
   ]
  }
 ],
 "metadata": {
  "kernelspec": {
   "display_name": "imss",
   "language": "python",
   "name": "python3"
  },
  "language_info": {
   "codemirror_mode": {
    "name": "ipython",
    "version": 3
   },
   "file_extension": ".py",
   "mimetype": "text/x-python",
   "name": "python",
   "nbconvert_exporter": "python",
   "pygments_lexer": "ipython3",
   "version": "3.10.12"
  },
  "orig_nbformat": 4
 },
 "nbformat": 4,
 "nbformat_minor": 2
}
